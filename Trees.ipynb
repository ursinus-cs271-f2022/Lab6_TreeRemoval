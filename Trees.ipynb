{
 "cells": [
  {
   "cell_type": "code",
   "execution_count": 1,
   "id": "3daa01d5",
   "metadata": {},
   "outputs": [
    {
     "data": {
      "image/png": "[encoded data removed]",
      "text/plain": [
       "<Figure size 432x288 with 1 Axes>"
      ]
     },
     "metadata": {
      "needs_background": "light"
     },
     "output_type": "display_data"
    }
   ],
   "source": [
    "import numpy as np\n",
    "import matplotlib.pyplot as plt\n",
    "\n",
    "class TreeNode(object):\n",
    "    def __init__(self, key):\n",
    "        self.key = key\n",
    "        self.left = None\n",
    "        self.right = None\n",
    "        self.inorder_pos = 0\n",
    "    \n",
    "    def add(self, key):\n",
    "        if key < self.key:\n",
    "            if self.left:\n",
    "                self.left.add(key)\n",
    "            else:\n",
    "                self.left = TreeNode(key)\n",
    "        elif key > self.key:\n",
    "            if self.right:\n",
    "                self.right.add(key)\n",
    "            else:\n",
    "                self.right = TreeNode(key)\n",
    "    \n",
    "    def inorder(self, num, key_list):\n",
    "        \"\"\"\n",
    "        Parameters\n",
    "        ----------\n",
    "        num: list\n",
    "            List of a single element which keeps \n",
    "            track of the number I'm at\n",
    "        \"\"\"\n",
    "        if self.left:\n",
    "            self.left.inorder(num, key_list)\n",
    "        self.inorder_pos = num[0]\n",
    "        key_list.append(self.key)\n",
    "        num[0] += 1\n",
    "        if self.right:\n",
    "            self.right.inorder(num, key_list)\n",
    "    \n",
    "    def draw(self, y):\n",
    "        x = self.inorder_pos\n",
    "        plt.scatter([x], [y], 50, 'k')\n",
    "        plt.text(x+0.2, y, \"{}\".format(self.key))\n",
    "        y_next = y-1\n",
    "        if self.left:\n",
    "            x_next = self.left.inorder_pos\n",
    "            plt.plot([x, x_next], [y, y_next])\n",
    "            self.left.draw(y_next)\n",
    "        if self.right:\n",
    "            x_next = self.right.inorder_pos\n",
    "            plt.plot([x, x_next], [y, y_next])\n",
    "            self.right.draw(y_next)\n",
    "        \n",
    "        \n",
    "class BinaryTree(object):\n",
    "    def __init__(self):\n",
    "        self.root = None\n",
    "    \n",
    "    def inorder(self):\n",
    "        key_list = []\n",
    "        if self.root:\n",
    "            self.root.inorder([0], key_list)\n",
    "        return key_list\n",
    "    \n",
    "    def draw(self):\n",
    "        self.inorder()\n",
    "        if self.root:\n",
    "            self.root.draw(0)\n",
    "    \n",
    "    def add(self, key):\n",
    "        if self.root:\n",
    "            self.root.add(key)\n",
    "        else:\n",
    "            self.root = TreeNode(key)\n",
    "\n",
    "def make_tree():\n",
    "    T = BinaryTree()\n",
    "    for val in [10, 7, 16, 3, 9, 11, 20, 14, 17, 13, 12, 6, 5, 17, 15, 8]:\n",
    "        T.add(val)\n",
    "    return T\n",
    "\n",
    "T = make_tree()\n",
    "T.draw()"
   ]
  },
  {
   "cell_type": "code",
   "execution_count": null,
   "id": "5e76370f",
   "metadata": {},
   "outputs": [],
   "source": []
  }
 ],
 "metadata": {
  "kernelspec": {
   "display_name": "Python 3 (ipykernel)",
   "language": "python",
   "name": "python3"
  },
  "language_info": {
   "codemirror_mode": {
    "name": "ipython",
    "version": 3
   },
   "file_extension": ".py",
   "mimetype": "text/x-python",
   "name": "python",
   "nbconvert_exporter": "python",
   "pygments_lexer": "ipython3",
   "version": "3.9.7"
  }
 },
 "nbformat": 4,
 "nbformat_minor": 5
}
